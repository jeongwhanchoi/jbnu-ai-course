{
 "cells": [
  {
   "cell_type": "code",
   "execution_count": 1,
   "metadata": {},
   "outputs": [],
   "source": [
    "import numpy as np\n",
    "import pandas as pd\n",
    "import matplotlib.pyplot as plt\n",
    "from scipy.spatial.distance import pdist, squareform"
   ]
  },
  {
   "cell_type": "code",
   "execution_count": 4,
   "metadata": {},
   "outputs": [
    {
     "data": {
      "image/png": "[encoded data removed]",
      "text/plain": [
       "<Figure size 432x288 with 1 Axes>"
      ]
     },
     "metadata": {
      "needs_background": "light"
     },
     "output_type": "display_data"
    },
    {
     "name": "stdout",
     "output_type": "stream",
     "text": [
      "          점0        점1        점2        점3        점4\n",
      "점0  0.000000  5.393133  1.388848  4.896710  2.401826\n",
      "점1  5.393133  0.000000  5.090279  7.656440  2.998344\n",
      "점2  1.388848  5.090279  0.000000  3.698301  2.405416\n",
      "점3  4.896710  7.656440  3.698301  0.000000  5.792346\n",
      "점4  2.401826  2.998344  2.405416  5.792346  0.000000\n"
     ]
    }
   ],
   "source": [
    "np.random.seed(123) \n",
    "\n",
    "var = ['X', 'Y']\n",
    "labels = ['점0', '점1', '점2', '점3', '점4']\n",
    "\n",
    "X = np.random.random_sample([5, 2])*10\n",
    "df = pd.DataFrame(X, columns=var, index=labels)\n",
    "\n",
    "plt.scatter(X[:, 0], X[:,1], c='blue', marker='o', s=50) \n",
    "plt.grid(True)\n",
    "plt.show()\n",
    "\n",
    "distmatrix = pdist(df, metric='euclidean') \n",
    "row_dist = pd.DataFrame(squareform(distmatrix), columns = labels, index = labels)\n",
    "print(row_dist)"
   ]
  },
  {
   "cell_type": "code",
   "execution_count": 10,
   "metadata": {},
   "outputs": [
    {
     "name": "stdout",
     "output_type": "stream",
     "text": [
      "        클러스터ID_1  클러스터ID_2        거리  클러스터 멤버수\n",
      "클러스터 1       0.0       2.0  1.388848       2.0\n",
      "클러스터 2       4.0       5.0  2.405416       3.0\n",
      "클러스터 3       1.0       6.0  5.393133       4.0\n",
      "클러스터 4       3.0       7.0  7.656440       5.0\n"
     ]
    }
   ],
   "source": [
    "from scipy.cluster.hierarchy import linkage\n",
    "\n",
    "row_clusters = linkage(distmatrix, method='complete')\n",
    "# row_clusters = linkage(df.values, method='complete', metric='euclidean’)\n",
    "df2 = pd.DataFrame(row_clusters, columns=['클러스터ID_1', '클러스터ID_2','거리', '클러스터 멤버수'],\n",
    "                                          index=['클러스터 %d' %(i+1) for i in range(row_clusters.shape[0])])\n",
    "                                          \n",
    "print(df2)"
   ]
  },
  {
   "cell_type": "code",
   "execution_count": 11,
   "metadata": {},
   "outputs": [
    {
     "data": {
      "image/png": "[encoded data removed]",
      "text/plain": [
       "<Figure size 432x288 with 1 Axes>"
      ]
     },
     "metadata": {
      "needs_background": "light"
     },
     "output_type": "display_data"
    }
   ],
   "source": [
    "from scipy.cluster.hierarchy import dendrogram \n",
    "row_dendr = dendrogram(row_clusters, labels=labels)\n",
    "plt.tight_layout() \n",
    "plt.ylabel('Euclidean Distance')\n",
    "plt.show()"
   ]
  }
 ],
 "metadata": {
  "kernelspec": {
   "display_name": "Python 3",
   "language": "python",
   "name": "python3"
  },
  "language_info": {
   "codemirror_mode": {
    "name": "ipython",
    "version": 3
   },
   "file_extension": ".py",
   "mimetype": "text/x-python",
   "name": "python",
   "nbconvert_exporter": "python",
   "pygments_lexer": "ipython3",
   "version": "3.6.6"
  }
 },
 "nbformat": 4,
 "nbformat_minor": 2
}
