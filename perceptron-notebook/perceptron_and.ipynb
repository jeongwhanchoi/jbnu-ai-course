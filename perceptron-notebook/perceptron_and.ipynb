{
 "cells": [
  {
   "cell_type": "markdown",
   "metadata": {},
   "source": [
    "# AND Perceptron\n",
    "\n",
    "- AND Truth Table\n",
    "\n",
    "| In | In | Out |\n",
    "|:--:|:--:|:---:|\n",
    "|  0 |  0 |  0  |\n",
    "|  0 |  1 |  0  |\n",
    "|  1 |  0 |  0  |\n",
    "|  1 |  1 |  1  |\n",
    "\n",
    "![AND Perceptron](../img/and_perceptron.png)"
   ]
  },
  {
   "cell_type": "code",
   "execution_count": 8,
   "metadata": {},
   "outputs": [],
   "source": [
    "import numpy as np\n",
    "import matplotlib.pyplot as plt"
   ]
  },
  {
   "cell_type": "code",
   "execution_count": 15,
   "metadata": {},
   "outputs": [
    {
     "ename": "ImportError",
     "evalue": "No module named 'tools'",
     "traceback": [
      "\u001b[0;31m---------------------------------------------------------------------------\u001b[0m",
      "\u001b[0;31mImportError\u001b[0m                               Traceback (most recent call last)",
      "\u001b[0;32m<ipython-input-15-240c46ab5198>\u001b[0m in \u001b[0;36m<module>\u001b[0;34m()\u001b[0m\n\u001b[0;32m----> 1\u001b[0;31m \u001b[0;32mfrom\u001b[0m \u001b[0mtools\u001b[0m \u001b[0;32mimport\u001b[0m \u001b[0mplot_decision_regions\u001b[0m\u001b[0;34m\u001b[0m\u001b[0m\n\u001b[0m",
      "\u001b[0;31mImportError\u001b[0m: No module named 'tools'"
     ],
     "output_type": "error"
    }
   ],
   "source": [
    "from tools import plot_decision_regions"
   ]
  },
  {
   "cell_type": "code",
   "execution_count": 9,
   "metadata": {},
   "outputs": [],
   "source": [
    "class Perceptron():\n",
    "    def __init__(self, thresholds=0.0, eta=0.01, n_iter=10):\n",
    "        self.thresholds = thresholds\n",
    "        self.eta = eta\n",
    "        self.n_iter = n_iter\n",
    "\n",
    "    def fit(self, X, y):\n",
    "        self.w_ = np.zeros(1+X. shape[1])\n",
    "        self.errors_ = []\n",
    "\n",
    "        for _ in range(self.n_iter):\n",
    "            errors = 0\n",
    "            for xi, target in zip(X, y):\n",
    "                update = self.eta * (target-self.predict(xi))\n",
    "                self.w_[1:] += update * xi\n",
    "                self.w_[0] += update\n",
    "                errors += int(update != 0.0)\n",
    "            self.errors_.append(errors)\n",
    "            print(self.w_)\n",
    "        return self\n",
    "\n",
    "    def net_input(self, X):\n",
    "        return np. dot(X, self.w_[1:]) + self.w_[0]\n",
    "\n",
    "    def predict(self, X):\n",
    "        return np.where(self.net_input(X) > self.thresholds, 1, -1)"
   ]
  },
  {
   "cell_type": "markdown",
   "metadata": {},
   "source": [
    "### `__init__()`\n",
    "**Parameters**\n",
    "\n",
    "- `eta` : float\n",
    "    - Learning rate (between 0.0 and 1.0)\n",
    "- `n_iter` : int\n",
    "    - Passes over the training dataset\n",
    "\n",
    "**Attributes**\n",
    "- `w_` : 1d-array\n",
    "    - Weights after fitting\n",
    "- `errors_` : list\n",
    "    - Number of missclassifications in every epoch\n",
    "    \n",
    "### `fit()`\n",
    "**Parameter**\n",
    "- `X`:\n",
    "    - {array-like}, `shape = [n_samples, n_features]` Training vectors, where n_samples is the number of samples and n_features is the number of features\n",
    "- `y`:\n",
    "    - array-like, `shape = [n_samples]` Target values\n",
    "    \n",
    "**Returns**\n",
    "- `self` : object\n",
    "\n",
    "### `net_input()`\n",
    "- Calculate net input\n",
    "\n",
    "### `activation()`\n",
    "- Compute linear activation\n",
    "\n",
    "### `predict()`\n",
    "- Return class label after unit step"
   ]
  },
  {
   "cell_type": "code",
   "execution_count": 10,
   "metadata": {},
   "outputs": [],
   "source": [
    "X = np.array([[0, 0], [0, 1], [1, 0], [1, 1]])\n",
    "y = np.array([-1, -1, -1, 1])"
   ]
  },
  {
   "cell_type": "code",
   "execution_count": 11,
   "metadata": {},
   "outputs": [],
   "source": [
    "def TrainPerceptronModel(X, y):\n",
    "    ppn = Perceptron(eta=0.1, n_iter=10)\n",
    "\n",
    "    ppn.fit(X, y)\n",
    "\n",
    "    plt.plot(range(1, len(ppn.errors_) + 1), ppn.errors_, marker='o')\n",
    "    plt.xlabel('Epochs')\n",
    "    plt.ylabel('Number of misclassifications')\n",
    "\n",
    "    plt.tight_layout()\n",
    "    # plt.savefig('./perceptron_1.png', dpi=300)\n",
    "    plt.show()    \n",
    "    \n",
    "    \n",
    "    plot_decision_regions(X, y, classifier=ppn)\n",
    "    plt.xlabel('sepal length [cm]')\n",
    "    plt.ylabel('petal length [cm]')\n",
    "    plt.legend(loc='upper left')\n",
    "\n",
    "    plt.tight_layout()\n",
    "    # plt.savefig('./perceptron_2.png', dpi=300)\n",
    "    plt.show()\n",
    "    \n",
    "    \n",
    "    \n",
    "    return ppn"
   ]
  },
  {
   "cell_type": "code",
   "execution_count": 12,
   "metadata": {},
   "outputs": [
    {
     "name": "stdout",
     "output_type": "stream",
     "text": [
      "[0.2 0.2 0.2]\n",
      "[0.  0.4 0.2]\n",
      "[-0.2  0.4  0.2]\n",
      "[-0.2  0.4  0.4]\n",
      "[-0.4  0.4  0.2]\n",
      "[-0.4  0.4  0.2]\n",
      "[-0.4  0.4  0.2]\n",
      "[-0.4  0.4  0.2]\n",
      "[-0.4  0.4  0.2]\n",
      "[-0.4  0.4  0.2]\n"
     ]
    },
    {
     "data": {
      "image/png": "[encoded data removed]",
      "text/plain": [
       "<Figure size 432x288 with 1 Axes>"
      ]
     },
     "metadata": {
      "needs_background": "light"
     },
     "output_type": "display_data"
    },
    {
     "ename": "NameError",
     "evalue": "name 'plot_decision_regions' is not defined",
     "traceback": [
      "\u001b[0;31m---------------------------------------------------------------------------\u001b[0m",
      "\u001b[0;31mNameError\u001b[0m                                 Traceback (most recent call last)",
      "\u001b[0;32m<ipython-input-12-665d849c81a2>\u001b[0m in \u001b[0;36m<module>\u001b[0;34m()\u001b[0m\n\u001b[0;32m----> 1\u001b[0;31m \u001b[0mppn\u001b[0m \u001b[0;34m=\u001b[0m \u001b[0mTrainPerceptronModel\u001b[0m\u001b[0;34m(\u001b[0m\u001b[0mX\u001b[0m\u001b[0;34m,\u001b[0m \u001b[0my\u001b[0m\u001b[0;34m)\u001b[0m\u001b[0;34m\u001b[0m\u001b[0m\n\u001b[0m",
      "\u001b[0;32m<ipython-input-11-dfb62a8df2fd>\u001b[0m in \u001b[0;36mTrainPerceptronModel\u001b[0;34m(X, y)\u001b[0m\n\u001b[1;32m     13\u001b[0m \u001b[0;34m\u001b[0m\u001b[0m\n\u001b[1;32m     14\u001b[0m \u001b[0;34m\u001b[0m\u001b[0m\n\u001b[0;32m---> 15\u001b[0;31m     \u001b[0mplot_decision_regions\u001b[0m\u001b[0;34m(\u001b[0m\u001b[0mX\u001b[0m\u001b[0;34m,\u001b[0m \u001b[0my\u001b[0m\u001b[0;34m,\u001b[0m \u001b[0mclassifier\u001b[0m\u001b[0;34m=\u001b[0m\u001b[0mppn\u001b[0m\u001b[0;34m)\u001b[0m\u001b[0;34m\u001b[0m\u001b[0m\n\u001b[0m\u001b[1;32m     16\u001b[0m     \u001b[0mplt\u001b[0m\u001b[0;34m.\u001b[0m\u001b[0mxlabel\u001b[0m\u001b[0;34m(\u001b[0m\u001b[0;34m'sepal length [cm]'\u001b[0m\u001b[0;34m)\u001b[0m\u001b[0;34m\u001b[0m\u001b[0m\n\u001b[1;32m     17\u001b[0m     \u001b[0mplt\u001b[0m\u001b[0;34m.\u001b[0m\u001b[0mylabel\u001b[0m\u001b[0;34m(\u001b[0m\u001b[0;34m'petal length [cm]'\u001b[0m\u001b[0;34m)\u001b[0m\u001b[0;34m\u001b[0m\u001b[0m\n",
      "\u001b[0;31mNameError\u001b[0m: name 'plot_decision_regions' is not defined"
     ],
     "output_type": "error"
    }
   ],
   "source": [
    "ppn = TrainPerceptronModel(X, y)"
   ]
  },
  {
   "cell_type": "code",
   "execution_count": 4,
   "metadata": {},
   "outputs": [
    {
     "name": "stdout",
     "output_type": "stream",
     "text": [
      "[0.2 0.2 0.2]\n",
      "[0.  0.4 0.2]\n",
      "[-0.2  0.4  0.2]\n",
      "[-0.2  0.4  0.4]\n",
      "[-0.4  0.4  0.2]\n",
      "[-0.4  0.4  0.2]\n",
      "[-0.4  0.4  0.2]\n",
      "[-0.4  0.4  0.2]\n",
      "[-0.4  0.4  0.2]\n",
      "[-0.4  0.4  0.2]\n"
     ]
    },
    {
     "data": {
      "text/plain": [
       "<__main__.Perceptron at 0x111b82c88>"
      ]
     },
     "execution_count": 4,
     "metadata": {},
     "output_type": "execute_result"
    }
   ],
   "source": [
    "ppn = Perceptron(eta=0.1)\n",
    "ppn.fit(X, y)"
   ]
  },
  {
   "cell_type": "code",
   "execution_count": 5,
   "metadata": {},
   "outputs": [
    {
     "name": "stdout",
     "output_type": "stream",
     "text": [
      "[1, 3, 3, 2, 1, 0, 0, 0, 0, 0]\n"
     ]
    }
   ],
   "source": [
    "print(ppn.errors_)"
   ]
  }
 ],
 "metadata": {
  "kernelspec": {
   "display_name": "Python 3",
   "language": "python",
   "name": "python3"
  },
  "language_info": {
   "codemirror_mode": {
    "name": "ipython",
    "version": 3
   },
   "file_extension": ".py",
   "mimetype": "text/x-python",
   "name": "python",
   "nbconvert_exporter": "python",
   "pygments_lexer": "ipython3",
   "version": "3.5.6"
  }
 },
 "nbformat": 4,
 "nbformat_minor": 2
}
