{
 "cells": [
  {
   "cell_type": "code",
   "execution_count": 1,
   "metadata": {},
   "outputs": [],
   "source": [
    "import pandas as pd\n",
    "import matplotlib\n",
    "import numpy as np\n",
    "import matplotlib.pyplot as plt"
   ]
  },
  {
   "cell_type": "code",
   "execution_count": 2,
   "metadata": {},
   "outputs": [],
   "source": [
    "class AdalineGD():\n",
    "    def __init__(self, eta=0.01, n_iter=10):\n",
    "        self.eta = eta\n",
    "        self.n_iter = n_iter\n",
    "\n",
    "    def fit(self, X, y):\n",
    "        self.w_ = np.zeros(1+X. shape[1])\n",
    "        self.cost_ = []\n",
    "\n",
    "        for _ in range(self.n_iter):\n",
    "            output = self.net_input(X)\n",
    "\n",
    "            errors = (y-output)\n",
    "            self.w_[1:] += self.eta * X.T.dot(errors)\n",
    "            self.w_[0] += self.eta * errors.sum()\n",
    "\n",
    "            cost = (errors**2).sum()/2\n",
    "            self.cost_.append(cost)\n",
    "            print(self.w_)\n",
    "        return self\n",
    "\n",
    "    def net_input(self, X):\n",
    "        return np. dot(X, self.w_[1:]) + self.w_[0]\n",
    "\n",
    "    def predict(self, X):\n",
    "        return np.where(self.net_input(X) > self.thresholds, 1, -1)"
   ]
  },
  {
   "cell_type": "markdown",
   "metadata": {},
   "source": [
    "### `__init__()`\n",
    "**Parameters**\n",
    "\n",
    "- `eta` : float\n",
    "    - Learning rate (between 0.0 and 1.0)\n",
    "- `n_iter` : int\n",
    "    - Passes over the training dataset\n",
    "\n",
    "**Attributes**\n",
    "- `w_` : 1d-array\n",
    "    - Weights after fitting\n",
    "- `errors_` : list\n",
    "    - Number of missclassifications in every epoch\n",
    "    \n",
    "### `fit()`\n",
    "**Parameter**\n",
    "- `X`:\n",
    "    - {array-like}, `shape = [n_samples, n_features]` Training vectors, where n_samples is the number of samples and n_features is the number of features\n",
    "- `y`:\n",
    "    - array-like, `shape = [n_samples]` Target values\n",
    "    \n",
    "**Returns**\n",
    "- `self` : object\n",
    "\n",
    "### `net_input()`\n",
    "- Calculate net input\n",
    "\n",
    "### `activation()`\n",
    "- Compute linear activation\n",
    "\n",
    "### `predict()`\n",
    "- Return class label after unit step"
   ]
  },
  {
   "cell_type": "code",
   "execution_count": 3,
   "metadata": {},
   "outputs": [],
   "source": [
    "df = pd.read_csv('../input/iris.data', header=None)"
   ]
  },
  {
   "cell_type": "code",
   "execution_count": 4,
   "metadata": {},
   "outputs": [],
   "source": [
    "y = df.iloc[0:100, 4].values\n",
    "y = np.where(y=='Iris-setosa', -1, 1)\n",
    "X = df.iloc[0:100, [0, 2]].values"
   ]
  },
  {
   "cell_type": "code",
   "execution_count": 5,
   "metadata": {},
   "outputs": [],
   "source": [
    "X_std = np.copy(X)\n",
    "X_std[:, 0] = (X[:, 0] - X[:, 0].mean()) / X[:, 0].std()\n",
    "X_std[:, 1] = (X[:, 1] - X[:, 1].mean()) / X[:, 1].std()"
   ]
  },
  {
   "cell_type": "code",
   "execution_count": 6,
   "metadata": {},
   "outputs": [
    {
     "name": "stdout",
     "output_type": "stream",
     "text": [
      "[0.         0.72829015 0.96995527]\n",
      "[ 1.47881707e-15 -5.96910515e-02  3.78300208e-01]\n",
      "[4.88498131e-17 4.20963140e-01 1.01844764e+00]\n",
      "[ 1.07247544e-15 -9.90857271e-02  6.27969356e-01]\n",
      "[6.66133815e-17 2.18134617e-01 1.05045145e+00]\n",
      "[ 7.70494779e-16 -1.25085277e-01  7.92745060e-01]\n",
      "[9.76996262e-17 8.42726120e-02 1.07157320e+00]\n",
      "[ 6.07291994e-16 -1.42244362e-01  9.01493109e-01]\n",
      "[ 1.55431223e-16 -4.07313022e-03  1.08551306e+00]\n",
      "[ 3.56381591e-16 -1.53568950e-01  9.73264237e-01]\n",
      "[ 1.33226763e-16 -6.23792207e-02  1.09471303e+00]\n",
      "[ 2.65343303e-16 -1.61042909e-01  1.02063148e+00]\n",
      "[ 1.79856130e-16 -1.00859855e-01  1.10078479e+00]\n",
      "[ 2.24265051e-16 -1.65975545e-01  1.05189273e+00]\n",
      "[ 1.36557432e-16 -1.26256159e-01  1.10479201e+00]\n"
     ]
    }
   ],
   "source": [
    "adal = AdalineGD(eta = 0.01, n_iter = 15).fit(X_std, y)"
   ]
  },
  {
   "cell_type": "code",
   "execution_count": 7,
   "metadata": {},
   "outputs": [
    {
     "data": {
      "image/png": "[encoded data removed]",
      "text/plain": [
       "<Figure size 432x288 with 1 Axes>"
      ]
     },
     "metadata": {
      "needs_background": "light"
     },
     "output_type": "display_data"
    }
   ],
   "source": [
    "plt.plot(range(1, len(adal.cost_) + 1), adal.cost_, marker='o')\n",
    "plt.xlabel('Epochs')\n",
    "plt.ylabel('SSE')\n",
    "plt.title('Adaline Standardized – Learning rate 0.01')\n",
    "plt.show()"
   ]
  }
 ],
 "metadata": {
  "kernelspec": {
   "display_name": "Python 3",
   "language": "python",
   "name": "python3"
  },
  "language_info": {
   "codemirror_mode": {
    "name": "ipython",
    "version": 3
   },
   "file_extension": ".py",
   "mimetype": "text/x-python",
   "name": "python",
   "nbconvert_exporter": "python",
   "pygments_lexer": "ipython3",
   "version": "3.5.6"
  }
 },
 "nbformat": 4,
 "nbformat_minor": 2
}
