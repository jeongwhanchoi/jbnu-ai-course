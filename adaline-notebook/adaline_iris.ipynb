{
 "cells": [
  {
   "cell_type": "markdown",
   "metadata": {},
   "source": [
    "# ADAptive LInear NEuron classifier"
   ]
  },
  {
   "cell_type": "code",
   "execution_count": 1,
   "metadata": {},
   "outputs": [],
   "source": [
    "import pandas as pd\n",
    "import numpy as np\n",
    "import matplotlib.pyplot as plt\n",
    "%matplotlib inline"
   ]
  },
  {
   "cell_type": "code",
   "execution_count": 2,
   "metadata": {},
   "outputs": [],
   "source": [
    "class AdalineGD():\n",
    "    def __init__(self, eta=0.01, n_iter=10):\n",
    "        self.eta = eta\n",
    "        self.n_iter = n_iter\n",
    "\n",
    "    def fit(self, X, y):\n",
    "        self.w_ = np.zeros(1+X. shape[1])\n",
    "        self.cost_ = []\n",
    "\n",
    "        for i in range(self.n_iter):\n",
    "            output = self.net_input(X)\n",
    "            errors = (y-output)\n",
    "            self.w_[1:] += self.eta * X.T.dot(errors)\n",
    "            self.w_[0] += self.eta * errors.sum()\n",
    "            cost = (errors**2).sum()/2\n",
    "            self.cost_.append(cost)\n",
    "            print(self.w_)\n",
    "        return self\n",
    "\n",
    "    def net_input(self, X):\n",
    "        return np. dot(X, self.w_[1:]) + self.w_[0]\n",
    "    \n",
    "    def activation(self, X):\n",
    "        return self.net_input(X)\n",
    "\n",
    "    def predict(self, X):\n",
    "#         return np.where(self.net_input(X) > self.thresholds, 1, -1)\n",
    "        return np.where(self.activation(X) > 0.0, 1, -1)"
   ]
  },
  {
   "cell_type": "markdown",
   "metadata": {},
   "source": [
    "### `__init__()`\n",
    "**Parameters**\n",
    "\n",
    "- `eta` : float\n",
    "    - Learning rate (between 0.0 and 1.0)\n",
    "- `n_iter` : int\n",
    "    - Passes over the training dataset\n",
    "\n",
    "**Attributes**\n",
    "- `w_` : 1d-array\n",
    "    - Weights after fitting\n",
    "- `errors_` : list\n",
    "    - Number of missclassifications in every epoch\n",
    "    \n",
    "### `fit()`\n",
    "**Parameter**\n",
    "- `X`:\n",
    "    - {array-like}, `shape = [n_samples, n_features]` Training vectors, where n_samples is the number of samples and n_features is the number of features\n",
    "- `y`:\n",
    "    - array-like, `shape = [n_samples]` Target values\n",
    "    \n",
    "**Returns**\n",
    "- `self` : object\n",
    "\n",
    "### `net_input()`\n",
    "- Calculate net input\n",
    "\n",
    "### `activation()`\n",
    "- Compute linear activation\n",
    "\n",
    "### `predict()`\n",
    "- Return class label after unit step"
   ]
  },
  {
   "cell_type": "code",
   "execution_count": 3,
   "metadata": {},
   "outputs": [],
   "source": [
    "df = pd.read_csv('../input/iris.data', header=None)"
   ]
  },
  {
   "cell_type": "code",
   "execution_count": 4,
   "metadata": {},
   "outputs": [],
   "source": [
    "y = df.iloc[0:100, 4].values\n",
    "y = np.where(y=='Iris-setosa', -1, 1)\n",
    "X = df.iloc[0:100, [0, 2]].values"
   ]
  },
  {
   "cell_type": "code",
   "execution_count": 5,
   "metadata": {},
   "outputs": [
    {
     "name": "stdout",
     "output_type": "stream",
     "text": [
      "[0.    0.465 1.398]\n",
      "[ -6.545091  -36.1128963 -19.1878272]\n",
      "[ 252.4892171  1410.59533177  790.4242396 ]\n",
      "[ -9979.56123384 -55734.44914837 -31188.85693652]\n",
      "[ 394185.67984303 2201491.42665656 1231990.78283011]\n",
      "[-15570317.21569782 -86958795.08860904 -48663529.13845022]\n",
      "[6.15026588e+08 3.43486717e+09 1.92220651e+09]\n",
      "[-2.42935133e+10 -1.35677047e+11 -7.59270417e+10]\n",
      "[9.59592317e+11 5.35923520e+12 2.99911359e+12]\n",
      "[-3.79038389e+13 -2.11689469e+14 -1.18464807e+14]\n"
     ]
    }
   ],
   "source": [
    "adal = AdalineGD(eta=0.01, n_iter=10).fit(X, y)\n",
    "# ax[0].plot(range(1, len(adal.cost_) + 1), np.log10(adal.cost_), marker='o')"
   ]
  },
  {
   "cell_type": "code",
   "execution_count": 6,
   "metadata": {},
   "outputs": [
    {
     "name": "stdout",
     "output_type": "stream",
     "text": [
      "[0.      0.00465 0.01398]\n",
      "[-0.00065451  0.00559571  0.02576162]\n",
      "[-0.0016914   0.00435746  0.03619703]\n",
      "[-0.00294884  0.00183962  0.04579372]\n",
      "[-0.00433062 -0.00141991  0.05485403]\n",
      "[-0.00577955 -0.00510132  0.06355829]\n",
      "[-0.0072617  -0.00901453  0.07201418]\n",
      "[-0.00875694 -0.01304663  0.08028619]\n",
      "[-0.01025338 -0.01713069  0.08841309]\n",
      "[-0.01174401 -0.02122706  0.09641832]\n"
     ]
    }
   ],
   "source": [
    "adal2 = AdalineGD(eta=0.0001, n_iter=10).fit(X, y)"
   ]
  },
  {
   "cell_type": "code",
   "execution_count": 7,
   "metadata": {},
   "outputs": [
    {
     "data": {
      "image/png": "[encoded data removed]",
      "text/plain": [
       "<Figure size 576x288 with 2 Axes>"
      ]
     },
     "metadata": {
      "needs_background": "light"
     },
     "output_type": "display_data"
    }
   ],
   "source": [
    "fig, ax = plt.subplots(nrows=1, ncols=2, figsize=(8, 4))\n",
    "\n",
    "ax[0].plot(range(1, len(adal.cost_) + 1), np.log10(adal.cost_), marker='o')\n",
    "ax[0].set_xlabel('Epochs')\n",
    "ax[0].set_ylabel('log(SQE)')\n",
    "ax[0].set_title('Adaline - Learning rate 0.01')\n",
    "\n",
    "ax[1].plot(range(1, len(adal2.cost_) + 1), np.log10(adal2.cost_), marker='o')\n",
    "ax[1].set_xlabel('Epochs')\n",
    "ax[1].set_ylabel('log(SQE)')\n",
    "ax[1].set_title('Adaline - Learning rate 0.0001')\n",
    "\n",
    "plt.subplots_adjust(left=0.1, bottom=0.2, right=0.95, top=0.9, wspace=0.5, hspace=0.5)\n",
    "plt.show()"
   ]
  }
 ],
 "metadata": {
  "kernelspec": {
   "display_name": "Python 3",
   "language": "python",
   "name": "python3"
  },
  "language_info": {
   "codemirror_mode": {
    "name": "ipython",
    "version": 3
   },
   "file_extension": ".py",
   "mimetype": "text/x-python",
   "name": "python",
   "nbconvert_exporter": "python",
   "pygments_lexer": "ipython3",
   "version": "3.5.6"
  }
 },
 "nbformat": 4,
 "nbformat_minor": 2
}
